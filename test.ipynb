{
 "cells": [
  {
   "cell_type": "code",
   "execution_count": 2,
   "metadata": {},
   "outputs": [
    {
     "name": "stdout",
     "output_type": "stream",
     "text": [
      "Expected : A dog leaps in the air parallel to a tennis ball .\n",
      "Actual : jacket jacket jacket jacket jacket a a a a a a a top in a a a jacket a top [EOS]\n"
     ]
    }
   ],
   "source": [
    "import torch\n",
    "import pandas as pd\n",
    "from dataset import ImageCaptionDataset\n",
    "from model import TransformerImageCaptioning\n",
    "from config import get_hyperparams\n",
    "from helpers import get_dataframe_preprocessed, get_tokeniser, get_transforms\n",
    "from torch.utils.data import DataLoader\n",
    "import torch.nn.functional as F\n",
    "\n",
    "import warnings\n",
    "warnings.filterwarnings('ignore')\n",
    "\n",
    "def top_k_sampling(logits, k=5):\n",
    "    # Apply top-k filtering to the logits\n",
    "    top_k_logits, top_k_indices = torch.topk(logits, k)\n",
    "    top_k_logits = top_k_logits - torch.max(top_k_logits)  # for numerical stability\n",
    "    probs = F.softmax(top_k_logits, dim=-1)\n",
    "    \n",
    "    # Sample from the top-k logits\n",
    "    next_token = torch.multinomial(probs, 1).squeeze()\n",
    "\n",
    "    return top_k_indices[:,next_token]\n",
    "\n",
    "\n",
    "\n",
    "def generate_caption(model, patches, start_token_idx, eos_token_idx, max_caption_length, device):\n",
    "    model.eval()  \n",
    "    batch_size = patches.shape[0]\n",
    "    # Initialize the decoder input with the start token\n",
    "    decoder_input = torch.full((batch_size, 1), start_token_idx, dtype=torch.int64, device=device)\n",
    "    # Move the input data to the appropriate device\n",
    "    patches = patches.to(device)\n",
    "    # Initialize an empty list to store the generated caption tokens\n",
    "    caption_tokens = []\n",
    "    for _ in range(max_caption_length):\n",
    "        with torch.no_grad():\n",
    "            outputs = model(patches, decoder_input)\n",
    "            logits = outputs[:, -1, :]\n",
    "            next_word_token = top_k_sampling(logits, k=5)\n",
    "            caption_tokens.append(next_word_token.item())\n",
    "            \n",
    "            # If the end-of-sequence token is generated, stop\n",
    "            if next_word_token.item() == eos_token_idx:\n",
    "                break\n",
    "            \n",
    "            # Update the decoder input by appending the predicted word\n",
    "            decoder_input = torch.cat([decoder_input, next_word_token.unsqueeze(1)], dim=1)\n",
    "\n",
    "    \n",
    "    return caption_tokens\n",
    "\n",
    "\n",
    "\n",
    "device = \"mps\"\n",
    "# read the df and preprocess it\n",
    "results : pd.DataFrame = get_dataframe_preprocessed('./captions.xls')\n",
    "tokenizer = get_tokeniser(results)\n",
    "\n",
    "hp = get_hyperparams(tokenizer)\n",
    "transform = get_transforms()\n",
    "dataset = ImageCaptionDataset(results, transform, tokenizer, seq_len=hp[\"max_seq_len\"], patch_size=hp[\"patch_size\"], stride=hp[\"stride\"])\n",
    "dataloader = DataLoader(dataset, batch_size=hp[\"batch_size\"], shuffle=True, num_workers=4)\n",
    "\n",
    "model = TransformerImageCaptioning(**hp).to(device)\n",
    "model.load_state_dict(torch.load('models/final_2.pth'))\n",
    "\n",
    "patches, decoder_input, label = dataset.__getitem__(26526)\n",
    "\n",
    "print(f\"Expected : {' '.join([tokenizer.id_to_token(i) for i in decoder_input if i not in [0,1,3,2]])}\")\n",
    "\n",
    "patches = patches.unsqueeze(0)\n",
    "\n",
    "caption = generate_caption(model,patches,2,3,50,device)\n",
    "caption = [tokenizer.id_to_token(i) for i in caption]\n",
    "caption = ' '.join(caption)\n",
    "print(f\"Actual : {caption}\")\n"
   ]
  },
  {
   "cell_type": "code",
   "execution_count": null,
   "metadata": {},
   "outputs": [],
   "source": []
  }
 ],
 "metadata": {
  "kernelspec": {
   "display_name": "imageCap",
   "language": "python",
   "name": "python3"
  },
  "language_info": {
   "codemirror_mode": {
    "name": "ipython",
    "version": 3
   },
   "file_extension": ".py",
   "mimetype": "text/x-python",
   "name": "python",
   "nbconvert_exporter": "python",
   "pygments_lexer": "ipython3",
   "version": "3.12.2"
  }
 },
 "nbformat": 4,
 "nbformat_minor": 2
}
